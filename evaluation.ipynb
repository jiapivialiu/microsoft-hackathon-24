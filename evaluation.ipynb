{
 "cells": [
  {
   "cell_type": "markdown",
   "metadata": {},
   "source": [
    "# Evaluation of our final model on benchmark RAID"
   ]
  },
  {
   "cell_type": "code",
   "execution_count": 1,
   "metadata": {
    "scrolled": true
   },
   "outputs": [],
   "source": [
    "# Global variables setup\n",
    "import os\n",
    "import warnings\n",
    "# Enable parallel computing\n",
    "os.environ[\"TOKENIZERS_PARALLELISM\"] = \"true\"\n",
    "# Suppress warnings\n",
    "warnings.filterwarnings(\"ignore\", message=\".*resume_download.*\", category=FutureWarning)\n",
    "warnings.filterwarnings(\"ignore\", message=\"torch.utils._pytree._register_pytree_node is deprecated\")"
   ]
  },
  {
   "cell_type": "code",
   "execution_count": 2,
   "metadata": {},
   "outputs": [],
   "source": [
    "# Import other packages\n",
    "from transformers import AutoModelForSequenceClassification, AutoTokenizer\n",
    "from peft import PeftModel, PeftConfig\n",
    "from datasets import load_dataset\n",
    "from sklearn.model_selection import train_test_split\n",
    "# import ROC-AUC plot-related packages\n",
    "import numpy as np\n",
    "import matplotlib.pyplot as plt\n",
    "from scipy.interpolate import interp1d\n",
    "from sklearn.metrics import auc, roc_curve\n",
    "# import RAID\n",
    "import json\n",
    "from raid import run_detection, run_evaluation\n",
    "from raid.utils import load_data"
   ]
  },
  {
   "cell_type": "code",
   "execution_count": 3,
   "metadata": {},
   "outputs": [],
   "source": [
    "# Get the working directories\n",
    "current_dir = os.getcwd()\n",
    "model_dir = os.path.join(current_dir, \"ML-LoRA-E5/twitter_raid_data/results_LoRA_e5\")\n",
    "data_dir = os.path.join(current_dir, \"data/\")\n",
    "eval_dir = os.path.join(data_dir, \"evaluation/\")"
   ]
  },
  {
   "cell_type": "code",
   "execution_count": 20,
   "metadata": {},
   "outputs": [],
   "source": [
    "# Import helper functions\n",
    "model_helpers_path = os.path.join(current_dir, \"src/model_helpers.py\")\n",
    "%run $model_helpers_path\n",
    "\n",
    "data_helpers_path = os.path.join(current_dir, \"src/data_helpers.py\")\n",
    "%run $data_helpers_path\n",
    "\n",
    "evaluate_helpers_path = os.path.join(current_dir, \"src/evaluate_helpers.py\")\n",
    "%run $evaluate_helpers_path"
   ]
  },
  {
   "cell_type": "markdown",
   "metadata": {},
   "source": [
    "## Load the fine-tuned model"
   ]
  },
  {
   "cell_type": "code",
   "execution_count": 5,
   "metadata": {},
   "outputs": [],
   "source": [
    "# Get the directory of the latest model checkpoints\n",
    "lora_checkpoints_dir = os.path.join(model_dir, \"checkpoint-36480\")"
   ]
  },
  {
   "cell_type": "code",
   "execution_count": 6,
   "metadata": {},
   "outputs": [
    {
     "name": "stderr",
     "output_type": "stream",
     "text": [
      "Some weights of BertForSequenceClassification were not initialized from the model checkpoint at intfloat/e5-small and are newly initialized: ['classifier.weight', 'classifier.bias']\n",
      "You should probably TRAIN this model on a down-stream task to be able to use it for predictions and inference.\n"
     ]
    }
   ],
   "source": [
    "# Load the tokenizer and base model \n",
    "base_model_name = \"intfloat/e5-small\" \n",
    "tokenizer = AutoTokenizer.from_pretrained(base_model_name)\n",
    "base_model = AutoModelForSequenceClassification.from_pretrained(base_model_name)"
   ]
  },
  {
   "cell_type": "code",
   "execution_count": 7,
   "metadata": {
    "scrolled": true
   },
   "outputs": [],
   "source": [
    "# Load the LoRA fine-tuned model\n",
    "our_model = PeftModel.from_pretrained(base_model, lora_checkpoints_dir)"
   ]
  },
  {
   "cell_type": "markdown",
   "metadata": {},
   "source": [
    "## 1. Evaluate our detector on a validation set"
   ]
  },
  {
   "cell_type": "markdown",
   "metadata": {},
   "source": [
    "You may uncomment the code in this section to detect whether your own texts are machine-generated using our model, and compare the predictions with your labels. If you're not given the information if the texts are machine generated, you may continue to Section 2 for the demonstration on predicting unlabaled datasets. We use a subset of RAID training data for demonstration."
   ]
  },
  {
   "cell_type": "markdown",
   "metadata": {},
   "source": [
    "### 1.1 Load and prepare the validation set for inference"
   ]
  },
  {
   "cell_type": "code",
   "execution_count": 8,
   "metadata": {},
   "outputs": [
    {
     "name": "stdout",
     "output_type": "stream",
     "text": [
      "Dataset({\n",
      "    features: ['id', 'adv_source_id', 'source_id', 'model', 'decoding', 'repetition_penalty', 'attack', 'domain', 'title', 'prompt', 'generation'],\n",
      "    num_rows: 5615820\n",
      "})\n"
     ]
    }
   ],
   "source": [
    "#train_df = load_data(split=\"train\")\n",
    "\n",
    "# Load training set \n",
    "#train_df = load_dataset(\"csv\", data_files=os.path.join(eval_dir, \"RAID_train_df.csv\"), split = 'all')\n",
    "#print(train_df)"
   ]
  },
  {
   "cell_type": "code",
   "execution_count": 9,
   "metadata": {},
   "outputs": [
    {
     "data": {
      "application/vnd.jupyter.widget-view+json": {
       "model_id": "a9ea823689994ac8a4e20fcd6817504f",
       "version_major": 2,
       "version_minor": 0
      },
      "text/plain": [
       "Creating labels column:   0%|          | 0/5615820 [00:00<?, ? examples/s]"
      ]
     },
     "metadata": {},
     "output_type": "display_data"
    },
    {
     "data": {
      "application/vnd.jupyter.widget-view+json": {
       "model_id": "c2abbb21d4e44735b20771fd4747e7d4",
       "version_major": 2,
       "version_minor": 0
      },
      "text/plain": [
       "Dropping NAs:   0%|          | 0/5615820 [00:00<?, ? examples/s]"
      ]
     },
     "metadata": {},
     "output_type": "display_data"
    },
    {
     "data": {
      "application/vnd.jupyter.widget-view+json": {
       "model_id": "2d77ca8c2f1f49ba9062cb9707e9add6",
       "version_major": 2,
       "version_minor": 0
      },
      "text/plain": [
       "Transforming labels to binary 0/1:   0%|          | 0/5615820 [00:00<?, ? examples/s]"
      ]
     },
     "metadata": {},
     "output_type": "display_data"
    }
   ],
   "source": [
    "# Process the data set for training, specify your text and label columns\n",
    "#processed_set = process_data(train_df, \"generation\", \"model\")"
   ]
  },
  {
   "cell_type": "code",
   "execution_count": 10,
   "metadata": {},
   "outputs": [
    {
     "name": "stdout",
     "output_type": "stream",
     "text": [
      "ProcessedData with 5615820 rows\n",
      "True\n",
      "Count of human-written entries: 160452\n",
      "Count of machine-generated entries: 5455368\n"
     ]
    }
   ],
   "source": [
    "# Print summary of the processed set\n",
    "#print(processed_set)\n",
    "#print(is_processed_data(processed_set))\n",
    "#label_counter(processed_set)"
   ]
  },
  {
   "cell_type": "code",
   "execution_count": 23,
   "metadata": {},
   "outputs": [],
   "source": [
    "# Generate a random sample\n",
    "#excluded_data, processed_subset = train_test_split_equal_class(processed_set, test_size = 1e-2, seed = 620)"
   ]
  },
  {
   "cell_type": "code",
   "execution_count": 24,
   "metadata": {},
   "outputs": [
    {
     "name": "stdout",
     "output_type": "stream",
     "text": [
      "ProcessedData with 3208 rows\n"
     ]
    }
   ],
   "source": [
    "#print(processed_subset)\n",
    "\n",
    "#if not isinstance(processed_subset, pd.DataFrame):\n",
    "#    processed_subset_df = pd.DataFrame(processed_subset.data)\n",
    "\n",
    "#train_data_path = os.path.join(eval_dir, \"RAID_train_subset.csv\")\n",
    "#processed_subset_df.to_csv(train_data_path, index=False)"
   ]
  },
  {
   "cell_type": "code",
   "execution_count": 28,
   "metadata": {},
   "outputs": [
    {
     "data": {
      "application/vnd.jupyter.widget-view+json": {
       "model_id": "118f4814e44e4f009ac511897a127492",
       "version_major": 2,
       "version_minor": 0
      },
      "text/plain": [
       "Downloading data files:   0%|          | 0/1 [00:00<?, ?it/s]"
      ]
     },
     "metadata": {},
     "output_type": "display_data"
    },
    {
     "data": {
      "application/vnd.jupyter.widget-view+json": {
       "model_id": "7508a2bf4c59440f9d68efb31b4fb7c7",
       "version_major": 2,
       "version_minor": 0
      },
      "text/plain": [
       "Extracting data files:   0%|          | 0/1 [00:00<?, ?it/s]"
      ]
     },
     "metadata": {},
     "output_type": "display_data"
    },
    {
     "data": {
      "application/vnd.jupyter.widget-view+json": {
       "model_id": "95faeddc12dc421d96cd71341799800f",
       "version_major": 2,
       "version_minor": 0
      },
      "text/plain": [
       "Generating train split: 0 examples [00:00, ? examples/s]"
      ]
     },
     "metadata": {},
     "output_type": "display_data"
    }
   ],
   "source": [
    "train_data_path = os.path.join(eval_dir, \"RAID_train_subset.csv\")\n",
    "processed_subset = load_dataset(\"csv\", data_files=train_data_path, split='all')"
   ]
  },
  {
   "cell_type": "code",
   "execution_count": 25,
   "metadata": {
    "scrolled": true
   },
   "outputs": [
    {
     "name": "stdout",
     "output_type": "stream",
     "text": [
      "ProcessedData with 3208 rows\n"
     ]
    }
   ],
   "source": [
    "# (Optional) Remove columns other than text and labels\n",
    "reduced_processed_subset = process_data(processed_subset, \"text\", \"labels\", reduced=True)\n",
    "print(reduced_processed_subset)"
   ]
  },
  {
   "cell_type": "markdown",
   "metadata": {},
   "source": [
    "### 1.2 Inference and evaluate the performance"
   ]
  },
  {
   "cell_type": "code",
   "execution_count": 26,
   "metadata": {
    "scrolled": true
   },
   "outputs": [
    {
     "data": {
      "application/vnd.jupyter.widget-view+json": {
       "model_id": "bf02c502e6794826acf82eecc27c9a0f",
       "version_major": 2,
       "version_minor": 0
      },
      "text/plain": [
       "Tokenizing data:   0%|          | 0/3208 [00:00<?, ? examples/s]"
      ]
     },
     "metadata": {},
     "output_type": "display_data"
    },
    {
     "name": "stdout",
     "output_type": "stream",
     "text": [
      "Processed 100 entries...\n",
      "Processed 200 entries...\n",
      "Processed 300 entries...\n",
      "Processed 400 entries...\n",
      "Processed 500 entries...\n",
      "Processed 600 entries...\n",
      "Processed 700 entries...\n",
      "Processed 800 entries...\n",
      "Processed 900 entries...\n",
      "Processed 1000 entries...\n",
      "Processed 1100 entries...\n",
      "Processed 1200 entries...\n",
      "Processed 1300 entries...\n",
      "Processed 1400 entries...\n",
      "Processed 1500 entries...\n",
      "Processed 1600 entries...\n",
      "Processed 1700 entries...\n",
      "Processed 1800 entries...\n",
      "Processed 1900 entries...\n",
      "Processed 2000 entries...\n",
      "Processed 2100 entries...\n",
      "Processed 2200 entries...\n",
      "Processed 2300 entries...\n",
      "Processed 2400 entries...\n",
      "Processed 2500 entries...\n",
      "Processed 2600 entries...\n",
      "Processed 2700 entries...\n",
      "Processed 2800 entries...\n",
      "Processed 2900 entries...\n",
      "Processed 3000 entries...\n",
      "Processed 3100 entries...\n",
      "Processed 3200 entries...\n"
     ]
    }
   ],
   "source": [
    "# Inference on data\n",
    "predicted_probs = inference_model(our_model, reduced_processed_subset, nthreads=8)"
   ]
  },
  {
   "cell_type": "code",
   "execution_count": 14,
   "metadata": {
    "scrolled": true
   },
   "outputs": [
    {
     "name": "stdout",
     "output_type": "stream",
     "text": [
      "Combined DataFrame saved successfully.\n"
     ]
    }
   ],
   "source": [
    "# Save predictions to a CSV file\n",
    "res_csv_path = os.path.join(eval_dir, 'pred_extra_adv_subset.csv')\n",
    "save_inference_to_csv(predicted_probs, reduced_processed_subset, res_csv_path)"
   ]
  },
  {
   "cell_type": "code",
   "execution_count": 15,
   "metadata": {},
   "outputs": [
    {
     "data": {
      "text/plain": [
       "True"
      ]
     },
     "execution_count": 15,
     "metadata": {},
     "output_type": "execute_result"
    }
   ],
   "source": [
    "isinstance(predicted_probs.predictions['Predicted_Probs(1)'], list)"
   ]
  },
  {
   "cell_type": "code",
   "execution_count": 34,
   "metadata": {},
   "outputs": [
    {
     "name": "stdout",
     "output_type": "stream",
     "text": [
      "Overall Metrics given threshold of 0.60\n",
      "===============\n",
      "Accuracy: 0.885\n",
      "Precision: 0.851\n",
      "Recall: 0.933\n",
      "False Positive Rate: 0.164\n",
      "Weighted F1 score: 0.884\n",
      "Specificity: 0.836\n",
      "Confusion Matrix:\n",
      "        Predicted 0  Predicted 1\n",
      "True 0         1341          263\n",
      "True 1          107         1497\n"
     ]
    }
   ],
   "source": [
    "true_label = reduced_processed_subset['labels']\n",
    "\n",
    "# Compute metrics\n",
    "#predicted_label = get_predicted_labels(predicted_probs, 0.6)\n",
    "res = evaluate_model(predicted_probs, true_label, 0.6)"
   ]
  },
  {
   "cell_type": "code",
   "execution_count": 36,
   "metadata": {},
   "outputs": [
    {
     "data": {
      "image/png": "[encoded data removed]",
      "text/plain": [
       "<Figure size 800x600 with 1 Axes>"
      ]
     },
     "metadata": {},
     "output_type": "display_data"
    }
   ],
   "source": [
    "#predicted_probs = predicted_probs.predictions['Predicted_Probs(1)']\n",
    "\n",
    "# Plot the ROC-AUC curve\n",
    "fpr, tpr, thres = roc_curve(true_label, predicted_probs)\n",
    "\n",
    "# Ensure fpr does not contain duplicates\n",
    "unique_fpr, unique_indices = np.unique(fpr, return_index=True)\n",
    "unique_tpr = tpr[unique_indices]\n",
    "\n",
    "roc_auc = auc(unique_fpr, unique_tpr)\n",
    "\n",
    "# Interpolate to create a smoother curve\n",
    "interp_fpr = np.linspace(0, 1, 100)  # Create 100 points between 0 and 1 for FPR\n",
    "interp_tpr = interp1d(unique_fpr, unique_tpr, kind='linear', fill_value='extrapolate')(interp_fpr)\n",
    "\n",
    "plt.figure(figsize=(8, 6))\n",
    "plt.plot(interp_fpr, interp_tpr, color='blue', lw=2, label='ROC curve (AUC = {:.2f})'.format(roc_auc))\n",
    "plt.plot([0, 1], [0, 1], color='red', linestyle='--')  # Diagonal line (random guess)\n",
    "\n",
    "plt.xlim([0.0, 1.0])\n",
    "plt.ylim([0.0, 1.05])\n",
    "plt.xlabel('False Positive Rate')\n",
    "plt.ylabel('True Positive Rate (Recall)')\n",
    "plt.title('Receiver Operating Characteristic (ROC) Curve')\n",
    "plt.legend(loc='lower right')\n",
    "plt.grid()\n",
    "\n",
    "plt.show()"
   ]
  },
  {
   "cell_type": "code",
   "execution_count": 37,
   "metadata": {},
   "outputs": [
    {
     "name": "stdout",
     "output_type": "stream",
     "text": [
      "                                                text  labels  \\\n",
      "0  I've never been happy and I don't think there'...       0   \n",
      "\n",
      "   Predicted_Probs(1)  \n",
      "0            0.262028  \n"
     ]
    }
   ],
   "source": [
    "# Read the results as pandas.DataFrame\n",
    "res_dataframe = read_inference_as_DataFrame(res_csv_path)\n",
    "print(res_dataframe.head(1))"
   ]
  },
  {
   "cell_type": "code",
   "execution_count": 38,
   "metadata": {},
   "outputs": [
    {
     "name": "stdout",
     "output_type": "stream",
     "text": [
      "{'text': [\"I've never been happy and I don't think there's anything that could ever make me happy enough for it to be worth suffering I go through every day. I know my family will miss me but they're better off without me. I can't stand living and I don't think there's anything in world for me. Nothing is appealing and my mental illness ruins any good thing that does happen to me. I just don't see reason why I should have to keep living when there's no point to it. I don't understand why people do this. I think the only reason anyone stays alive is because they're too afraid of dying. Happiness is worth nothing when the rest of your time is spend working to pay bills that leave you with barely enough money to eat, let alone pay for any surprise expenses. Every day I get closer and closer to accepting the fact that I was put on this earth to suffer until I finally give in and kill myself. Not even antidepressants can help me.\"], 'labels': [0], 'Predicted_Probs(1)': [0.26202834]}\n"
     ]
    }
   ],
   "source": [
    "# Read the results as datasets.Dataset\n",
    "res_dataset = read_inference_as_Dataset(res_csv_path)\n",
    "print(res_dataset[:1])"
   ]
  },
  {
   "cell_type": "markdown",
   "metadata": {},
   "source": [
    "## 2. Apply our detector on a test set"
   ]
  },
  {
   "cell_type": "markdown",
   "metadata": {},
   "source": [
    "This section demonstrates how to use our model to detect the percentage that your texts are machine generated. You can easily use the code below and replace the dataset to yours."
   ]
  },
  {
   "cell_type": "code",
   "execution_count": 9,
   "metadata": {},
   "outputs": [],
   "source": [
    "# Load the RAID test data\n",
    "test_df = load_data(split=\"test\")\n",
    "#test_df = read_csv(os.path.join(eval_dir, \"test_raid_set.csv\")"
   ]
  },
  {
   "cell_type": "code",
   "execution_count": 10,
   "metadata": {},
   "outputs": [
    {
     "name": "stdout",
     "output_type": "stream",
     "text": [
      "True\n",
      "Dataset({\n",
      "    features: ['id', 'generation'],\n",
      "    num_rows: 672000\n",
      "})\n"
     ]
    }
   ],
   "source": [
    "test_ds = Dataset.from_pandas(test_df)\n",
    "print(isinstance(test_ds, Dataset))\n",
    "print(test_ds)"
   ]
  },
  {
   "cell_type": "code",
   "execution_count": 11,
   "metadata": {},
   "outputs": [
    {
     "name": "stdout",
     "output_type": "stream",
     "text": [
      "                                     id  \\\n",
      "0  c39744bc-bfb4-49b4-8508-4149547be2a5   \n",
      "1  9c5acac0-def5-44d5-a154-9863a6eab11b   \n",
      "2  7b8b7930-8aee-4be5-8208-ff41e742d669   \n",
      "\n",
      "                                          generation  \n",
      "0  Ingredients:\\n- 1 loaf of corn bread, crumbled...  \n",
      "1  Feker Libi, is a song  by Ehud Banai  and Yeho...  \n",
      "2  Rebecca L. Gottesman (born 1962) is an America...  \n",
      "(68, 2)\n"
     ]
    }
   ],
   "source": [
    "# Generate a random subset for testing\n",
    "test_subset = test_ds.train_test_split(test_size=0.0001, shuffle=True, seed=12)['test']\n",
    "test_subset_df = Dataset.to_pandas(test_subset)\n",
    "print(test_subset_df.head(3))\n",
    "print(test_subset_df.shape)"
   ]
  },
  {
   "cell_type": "code",
   "execution_count": 42,
   "metadata": {},
   "outputs": [],
   "source": [
    "# Define my detector function for evaluation on RAID test set\n",
    "def my_detector(texts: list[str], model = our_model) -> list[float]:\n",
    "    predicted_probs = inference_model(model, texts)\n",
    "    return predicted_probs.predictions"
   ]
  },
  {
   "cell_type": "code",
   "execution_count": 43,
   "metadata": {
    "scrolled": true
   },
   "outputs": [
    {
     "data": {
      "application/vnd.jupyter.widget-view+json": {
       "model_id": "4b3db0a7ea7e46e28e598a54acfc5405",
       "version_major": 2,
       "version_minor": 0
      },
      "text/plain": [
       "Tokenizing data:   0%|          | 0/68 [00:00<?, ? examples/s]"
      ]
     },
     "metadata": {},
     "output_type": "display_data"
    }
   ],
   "source": [
    "# Run your detector on the dataset\n",
    "predictions = run_detection(my_detector, test_subset_df)"
   ]
  },
  {
   "cell_type": "code",
   "execution_count": 44,
   "metadata": {},
   "outputs": [
    {
     "name": "stdout",
     "output_type": "stream",
     "text": [
      "[0.9554032683372498, 0.9455276727676392]\n"
     ]
    }
   ],
   "source": [
    "# Extract the predicted probability of machine-generated texts\n",
    "pred_probs = [item['score']['Predicted_Probs(1)'] for item in predictions]\n",
    "print(pred_probs[:2])"
   ]
  },
  {
   "cell_type": "code",
   "execution_count": 48,
   "metadata": {},
   "outputs": [],
   "source": [
    "# Specify the path to your JSON file\n",
    "file_path = os.path.join(data_dir, \"raid_test_predictions/raid_test_subset_predictions.json\")\n",
    "\n",
    "# Save the predictions\n",
    "with open(file_path, 'w') as f:\n",
    "    json.dump(predictions, f, indent=4)"
   ]
  },
  {
   "cell_type": "code",
   "execution_count": 49,
   "metadata": {},
   "outputs": [
    {
     "name": "stdout",
     "output_type": "stream",
     "text": [
      "[1, 0, 1, 0, 1, 0, 0, 0, 1, 1]\n"
     ]
    }
   ],
   "source": [
    "# Get predicted labels\n",
    "pred_label = get_predicted_labels(pred_probs, 0.95)\n",
    "print(pred_label[:10])"
   ]
  },
  {
   "cell_type": "markdown",
   "metadata": {},
   "source": [
    "### 1.3 Load the predictions on the full test set"
   ]
  },
  {
   "cell_type": "code",
   "execution_count": 50,
   "metadata": {
    "scrolled": true
   },
   "outputs": [],
   "source": [
    "# Read the JSON file\n",
    "with open(file_path, 'r') as file:\n",
    "    pred_test_set = json.load(file)"
   ]
  }
 ],
 "metadata": {
  "kernelspec": {
   "display_name": "Python 3 (ipykernel)",
   "language": "python",
   "name": "python3"
  },
  "language_info": {
   "codemirror_mode": {
    "name": "ipython",
    "version": 3
   },
   "file_extension": ".py",
   "mimetype": "text/x-python",
   "name": "python",
   "nbconvert_exporter": "python",
   "pygments_lexer": "ipython3",
   "version": "3.10.9"
  }
 },
 "nbformat": 4,
 "nbformat_minor": 4
}

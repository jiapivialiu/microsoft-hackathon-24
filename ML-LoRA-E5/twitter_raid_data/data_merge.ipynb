{
 "cells": [
  {
   "cell_type": "markdown",
   "metadata": {
    "id": "QJHxLYMipMuC"
   },
   "source": [
    "# Twitter data"
   ]
  },
  {
   "cell_type": "code",
   "execution_count": 1,
   "metadata": {
    "executionInfo": {
     "elapsed": 1877,
     "status": "ok",
     "timestamp": 1730836565139,
     "user": {
      "displayName": "Menglin Zhou",
      "userId": "12870999301489415586"
     },
     "user_tz": 480
    },
    "id": "NMkqbF_BpMUR"
   },
   "outputs": [],
   "source": [
    "import os\n",
    "import pandas as pd\n",
    "import numpy as np"
   ]
  },
  {
   "cell_type": "code",
   "execution_count": 2,
   "metadata": {
    "id": "lxrNtr5crgwS"
   },
   "outputs": [],
   "source": [
    "twitter_df = pd.read_csv('/Users/menglinzhou/Library/CloudStorage/OneDrive-Personal/Projects/microsoft-hackathon-24/ML-LoRA-E5/twitter_data/twitter_processed.csv')"
   ]
  },
  {
   "cell_type": "code",
   "execution_count": 4,
   "metadata": {
    "id": "FDEPt3zasMvL"
   },
   "outputs": [],
   "source": [
    "def sample_with_seed(group, seed=42, size=100):  # Introduce seed parameter\n",
    "    np.random.seed(seed)  # Set seed before sampling\n",
    "    return group.sample(min(len(group), size))"
   ]
  },
  {
   "cell_type": "code",
   "execution_count": 5,
   "metadata": {
    "colab": {
     "base_uri": "https://localhost:8080/"
    },
    "executionInfo": {
     "elapsed": 170,
     "status": "ok",
     "timestamp": 1730833178403,
     "user": {
      "displayName": "Menglin Zhou",
      "userId": "12870999301489415586"
     },
     "user_tz": 480
    },
    "id": "3mC8KpVSsGAs",
    "outputId": "f75cb044-6e2f-48a2-de7b-d9777b70ad22"
   },
   "outputs": [
    {
     "name": "stderr",
     "output_type": "stream",
     "text": [
      "/var/folders/mh/mgs_z6397_x1r2rf93xvbk3h0000gn/T/ipykernel_26852/1742114485.py:1: DeprecationWarning: DataFrameGroupBy.apply operated on the grouping columns. This behavior is deprecated, and in a future version of pandas the grouping columns will be excluded from the operation. Either pass `include_groups=False` to exclude the groupings or explicitly select the grouping columns after groupby to silence this warning.\n",
      "  twitter_sample_df = twitter_df.groupby(['labels'], group_keys=False).apply(lambda x: sample_with_seed(x, seed=100, size=10000))\n"
     ]
    }
   ],
   "source": [
    "twitter_sample_df = twitter_df.groupby(['labels'], group_keys=False).apply(lambda x: sample_with_seed(x, seed=100, size=10000))"
   ]
  },
  {
   "cell_type": "code",
   "execution_count": 6,
   "metadata": {
    "colab": {
     "base_uri": "https://localhost:8080/",
     "height": 178
    },
    "executionInfo": {
     "elapsed": 152,
     "status": "ok",
     "timestamp": 1730833179568,
     "user": {
      "displayName": "Menglin Zhou",
      "userId": "12870999301489415586"
     },
     "user_tz": 480
    },
    "id": "ZJwKlcYysbvJ",
    "outputId": "cfc2bf0a-c8a9-4739-9868-fade05d1347a"
   },
   "outputs": [
    {
     "data": {
      "text/plain": [
       "labels\n",
       "0    10000\n",
       "1    10000\n",
       "Name: count, dtype: int64"
      ]
     },
     "execution_count": 6,
     "metadata": {},
     "output_type": "execute_result"
    }
   ],
   "source": [
    "twitter_sample_df['labels'].value_counts()"
   ]
  },
  {
   "cell_type": "code",
   "execution_count": 7,
   "metadata": {
    "colab": {
     "base_uri": "https://localhost:8080/"
    },
    "executionInfo": {
     "elapsed": 168,
     "status": "ok",
     "timestamp": 1730833301151,
     "user": {
      "displayName": "Menglin Zhou",
      "userId": "12870999301489415586"
     },
     "user_tz": 480
    },
    "id": "fYP91eFxtCit",
    "outputId": "749e4935-78f8-4455-95ff-bb652c65b0a4"
   },
   "outputs": [
    {
     "name": "stdout",
     "output_type": "stream",
     "text": [
      "text      0\n",
      "labels    0\n",
      "dtype: int64\n"
     ]
    }
   ],
   "source": [
    "missing_values = twitter_sample_df.isnull().sum()\n",
    "print(missing_values)"
   ]
  },
  {
   "cell_type": "code",
   "execution_count": 8,
   "metadata": {
    "id": "ca0HARO040td"
   },
   "outputs": [],
   "source": [
    "twitter_sample_df = pd.DataFrame(\n",
    "    {'text': twitter_sample_df['text'],\n",
    "     'domain': 'twitter',\n",
    "     'model': 'gpt4o-mini',\n",
    "     'attack': 'none',\n",
    "     'labels': twitter_sample_df['labels']}\n",
    ")"
   ]
  },
  {
   "cell_type": "code",
   "execution_count": 9,
   "metadata": {},
   "outputs": [
    {
     "data": {
      "text/plain": [
       "labels\n",
       "0    10000\n",
       "1    10000\n",
       "Name: count, dtype: int64"
      ]
     },
     "execution_count": 9,
     "metadata": {},
     "output_type": "execute_result"
    }
   ],
   "source": [
    "twitter_sample_df['labels'].value_counts()"
   ]
  },
  {
   "cell_type": "markdown",
   "metadata": {
    "id": "bM_klQOStKpH"
   },
   "source": [
    "# Raid data"
   ]
  },
  {
   "cell_type": "code",
   "execution_count": 10,
   "metadata": {},
   "outputs": [],
   "source": [
    "raid_ai_df = pd.read_csv('raid_ai.csv')"
   ]
  },
  {
   "cell_type": "code",
   "execution_count": 11,
   "metadata": {
    "id": "rfJQQovHuLuC"
   },
   "outputs": [
    {
     "name": "stderr",
     "output_type": "stream",
     "text": [
      "/var/folders/mh/mgs_z6397_x1r2rf93xvbk3h0000gn/T/ipykernel_26852/3600643269.py:1: DeprecationWarning: DataFrameGroupBy.apply operated on the grouping columns. This behavior is deprecated, and in a future version of pandas the grouping columns will be excluded from the operation. Either pass `include_groups=False` to exclude the groupings or explicitly select the grouping columns after groupby to silence this warning.\n",
      "  raid_ai_df = raid_ai_df.groupby(['domain', 'model'], group_keys=False).apply(lambda x: sample_with_seed(x, seed=100, size = 2000))\n"
     ]
    }
   ],
   "source": [
    "raid_ai_df = raid_ai_df.groupby(['domain', 'model'], group_keys=False).apply(lambda x: sample_with_seed(x, seed=100, size = 2000))"
   ]
  },
  {
   "cell_type": "code",
   "execution_count": 12,
   "metadata": {},
   "outputs": [],
   "source": [
    "raid_human_df = pd.read_csv('raid_human.csv')"
   ]
  },
  {
   "cell_type": "code",
   "execution_count": 14,
   "metadata": {
    "id": "wXXZs9t63tE4"
   },
   "outputs": [],
   "source": [
    "raid_ai_sub = pd.DataFrame(\n",
    "    {'text': raid_ai_df['generation'],\n",
    "     'domain': raid_ai_df['domain'],\n",
    "     'model': raid_ai_df['model'],\n",
    "     'attack': raid_ai_df['attack'],\n",
    "     'labels': 1}\n",
    ")\n",
    "\n",
    "raid_human_sub = pd.DataFrame(\n",
    "    {'text': raid_human_df['generation'],\n",
    "     'domain': raid_human_df['domain'],\n",
    "     'model': raid_human_df['model'],\n",
    "     'attack': raid_human_df['attack'],\n",
    "     'labels': 0}\n",
    ")"
   ]
  },
  {
   "cell_type": "code",
   "execution_count": 16,
   "metadata": {},
   "outputs": [
    {
     "data": {
      "text/plain": [
       "labels\n",
       "1    128000\n",
       "Name: count, dtype: int64"
      ]
     },
     "execution_count": 16,
     "metadata": {},
     "output_type": "execute_result"
    }
   ],
   "source": [
    "raid_ai_sub['labels'].value_counts()"
   ]
  },
  {
   "cell_type": "code",
   "execution_count": 17,
   "metadata": {},
   "outputs": [
    {
     "data": {
      "text/plain": [
       "labels\n",
       "0    80000\n",
       "Name: count, dtype: int64"
      ]
     },
     "execution_count": 17,
     "metadata": {},
     "output_type": "execute_result"
    }
   ],
   "source": [
    "raid_human_sub['labels'].value_counts()"
   ]
  },
  {
   "cell_type": "code",
   "execution_count": 25,
   "metadata": {},
   "outputs": [],
   "source": [
    "raid_train_df = pd.concat([raid_human_sub, raid_ai_sub], axis = 0)"
   ]
  },
  {
   "cell_type": "code",
   "execution_count": 26,
   "metadata": {},
   "outputs": [
    {
     "data": {
      "text/plain": [
       "labels\n",
       "1    128000\n",
       "0     80000\n",
       "Name: count, dtype: int64"
      ]
     },
     "execution_count": 26,
     "metadata": {},
     "output_type": "execute_result"
    }
   ],
   "source": [
    "raid_train_df['labels'].value_counts()"
   ]
  },
  {
   "cell_type": "code",
   "execution_count": 27,
   "metadata": {},
   "outputs": [],
   "source": [
    "df = pd.concat([raid_train_df, twitter_sample_df], axis=0)"
   ]
  },
  {
   "cell_type": "code",
   "execution_count": 28,
   "metadata": {},
   "outputs": [
    {
     "data": {
      "text/plain": [
       "labels\n",
       "1    138000\n",
       "0     90000\n",
       "Name: count, dtype: int64"
      ]
     },
     "execution_count": 28,
     "metadata": {},
     "output_type": "execute_result"
    }
   ],
   "source": [
    "df['labels'].value_counts()"
   ]
  },
  {
   "cell_type": "code",
   "execution_count": 29,
   "metadata": {},
   "outputs": [],
   "source": [
    "df = df.sample(frac=1).reset_index(drop=True)"
   ]
  },
  {
   "cell_type": "code",
   "execution_count": 64,
   "metadata": {},
   "outputs": [
    {
     "data": {
      "text/html": [
       "<div>\n",
       "<style scoped>\n",
       "    .dataframe tbody tr th:only-of-type {\n",
       "        vertical-align: middle;\n",
       "    }\n",
       "\n",
       "    .dataframe tbody tr th {\n",
       "        vertical-align: top;\n",
       "    }\n",
       "\n",
       "    .dataframe thead th {\n",
       "        text-align: right;\n",
       "    }\n",
       "</style>\n",
       "<table border=\"1\" class=\"dataframe\">\n",
       "  <thead>\n",
       "    <tr style=\"text-align: right;\">\n",
       "      <th></th>\n",
       "      <th>text</th>\n",
       "      <th>domain</th>\n",
       "      <th>model</th>\n",
       "      <th>attack</th>\n",
       "      <th>labels</th>\n",
       "    </tr>\n",
       "  </thead>\n",
       "  <tbody>\n",
       "    <tr>\n",
       "      <th>0</th>\n",
       "      <td>\\n\\nKatraj is a hill station in the Indian sta...</td>\n",
       "      <td>wiki</td>\n",
       "      <td>gpt3</td>\n",
       "      <td>alternative_spelling</td>\n",
       "      <td>1</td>\n",
       "    </tr>\n",
       "    <tr>\n",
       "      <th>1</th>\n",
       "      <td>Underrated doesn't deserve hate. Back to Futur...</td>\n",
       "      <td>reviews</td>\n",
       "      <td>human</td>\n",
       "      <td>article_deletion</td>\n",
       "      <td>0</td>\n",
       "    </tr>\n",
       "    <tr>\n",
       "      <th>2</th>\n",
       "      <td>In 1875, Gaythorne Ridsdale-Terry (1845–1913) ...</td>\n",
       "      <td>wiki</td>\n",
       "      <td>mpt</td>\n",
       "      <td>none</td>\n",
       "      <td>1</td>\n",
       "    </tr>\n",
       "    <tr>\n",
       "      <th>3</th>\n",
       "      <td>Shark Tale is doubtlessly going to be endlessl...</td>\n",
       "      <td>reviews</td>\n",
       "      <td>human</td>\n",
       "      <td>number</td>\n",
       "      <td>0</td>\n",
       "    </tr>\n",
       "    <tr>\n",
       "      <th>4</th>\n",
       "      <td>We develop a system for measurements of powe...</td>\n",
       "      <td>abstracts</td>\n",
       "      <td>human</td>\n",
       "      <td>upper_lower</td>\n",
       "      <td>0</td>\n",
       "    </tr>\n",
       "    <tr>\n",
       "      <th>...</th>\n",
       "      <td>...</td>\n",
       "      <td>...</td>\n",
       "      <td>...</td>\n",
       "      <td>...</td>\n",
       "      <td>...</td>\n",
       "    </tr>\n",
       "    <tr>\n",
       "      <th>227995</th>\n",
       "      <td>1 cup water\\n1/2 cup (1 stick) unsalted butter...</td>\n",
       "      <td>recipes</td>\n",
       "      <td>human</td>\n",
       "      <td>perplexity_misspelling</td>\n",
       "      <td>0</td>\n",
       "    </tr>\n",
       "    <tr>\n",
       "      <th>227996</th>\n",
       "      <td>After years of aimless wanderings\\nLeaving beh...</td>\n",
       "      <td>poetry</td>\n",
       "      <td>human</td>\n",
       "      <td>none</td>\n",
       "      <td>0</td>\n",
       "    </tr>\n",
       "    <tr>\n",
       "      <th>227997</th>\n",
       "      <td>\\n\\n\"Looper\" is a great movie. It's a smart, w...</td>\n",
       "      <td>reviews</td>\n",
       "      <td>gpt3</td>\n",
       "      <td>alternative_spelling</td>\n",
       "      <td>1</td>\n",
       "    </tr>\n",
       "    <tr>\n",
       "      <th>227998</th>\n",
       "      <td>\\n\\nIn 1871, two young boys, Dick and Harry, r...</td>\n",
       "      <td>books</td>\n",
       "      <td>gpt3</td>\n",
       "      <td>upper_lower</td>\n",
       "      <td>1</td>\n",
       "    </tr>\n",
       "    <tr>\n",
       "      <th>227999</th>\n",
       "      <td>air india has decided “roll back” its boarding...</td>\n",
       "      <td>twitter</td>\n",
       "      <td>gpt4o-mini</td>\n",
       "      <td>none</td>\n",
       "      <td>0</td>\n",
       "    </tr>\n",
       "  </tbody>\n",
       "</table>\n",
       "<p>228000 rows × 5 columns</p>\n",
       "</div>"
      ],
      "text/plain": [
       "                                                     text     domain  \\\n",
       "0       \\n\\nKatraj is a hill station in the Indian sta...       wiki   \n",
       "1       Underrated doesn't deserve hate. Back to Futur...    reviews   \n",
       "2       In 1875, Gaythorne Ridsdale-Terry (1845–1913) ...       wiki   \n",
       "3       Shark Tale is doubtlessly going to be endlessl...    reviews   \n",
       "4         We develop a system for measurements of powe...  abstracts   \n",
       "...                                                   ...        ...   \n",
       "227995  1 cup water\\n1/2 cup (1 stick) unsalted butter...    recipes   \n",
       "227996  After years of aimless wanderings\\nLeaving beh...     poetry   \n",
       "227997  \\n\\n\"Looper\" is a great movie. It's a smart, w...    reviews   \n",
       "227998  \\n\\nIn 1871, two young boys, Dick and Harry, r...      books   \n",
       "227999  air india has decided “roll back” its boarding...    twitter   \n",
       "\n",
       "             model                  attack  labels  \n",
       "0             gpt3    alternative_spelling       1  \n",
       "1            human        article_deletion       0  \n",
       "2              mpt                    none       1  \n",
       "3            human                  number       0  \n",
       "4            human             upper_lower       0  \n",
       "...            ...                     ...     ...  \n",
       "227995       human  perplexity_misspelling       0  \n",
       "227996       human                    none       0  \n",
       "227997        gpt3    alternative_spelling       1  \n",
       "227998        gpt3             upper_lower       1  \n",
       "227999  gpt4o-mini                    none       0  \n",
       "\n",
       "[228000 rows x 5 columns]"
      ]
     },
     "metadata": {},
     "output_type": "display_data"
    }
   ],
   "source": [
    "display(df)"
   ]
  },
  {
   "cell_type": "code",
   "execution_count": 30,
   "metadata": {},
   "outputs": [
    {
     "data": {
      "text/plain": [
       "labels\n",
       "1    138000\n",
       "0     90000\n",
       "Name: count, dtype: int64"
      ]
     },
     "execution_count": 30,
     "metadata": {},
     "output_type": "execute_result"
    }
   ],
   "source": [
    "df['labels'].value_counts()"
   ]
  },
  {
   "cell_type": "code",
   "execution_count": 65,
   "metadata": {},
   "outputs": [],
   "source": [
    "df.to_csv('raid_twitter_train.csv', index=False)"
   ]
  }
 ],
 "metadata": {
  "colab": {
   "authorship_tag": "ABX9TyN7br8O2p4ecgVNqXBHkHtS",
   "provenance": []
  },
  "kernelspec": {
   "display_name": ".venv",
   "language": "python",
   "name": "python3"
  },
  "language_info": {
   "codemirror_mode": {
    "name": "ipython",
    "version": 3
   },
   "file_extension": ".py",
   "mimetype": "text/x-python",
   "name": "python",
   "nbconvert_exporter": "python",
   "pygments_lexer": "ipython3",
   "version": "3.9.6"
  }
 },
 "nbformat": 4,
 "nbformat_minor": 0
}
